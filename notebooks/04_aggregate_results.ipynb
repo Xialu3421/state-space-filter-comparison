{
 "cells": [
  {
   "cell_type": "code",
   "execution_count": null,
   "metadata": {},
   "outputs": [],
   "source": [
    "import pandas as pd, glob, pathlib\n",
    "metrics_dir = pathlib.Path(\"results/metrics\")\n",
    "df = pd.concat(\n",
    "    pd.read_parquet(p) for p in metrics_dir.glob(\"metrics_*.parquet\")\n",
    ")\n",
    "df.head()\n"
   ]
  },
  {
   "cell_type": "code",
   "execution_count": null,
   "metadata": {},
   "outputs": [],
   "source": [
    "summary = (\n",
    "    df.groupby([\"filter\",\"eps_dist\",\"eta_dist\"])\n",
    "      [[\"MSE\",\"MedAE\"]]\n",
    "      .mean()\n",
    "      .round(3)\n",
    ")\n",
    "summary\n"
   ]
  },
  {
   "cell_type": "code",
   "execution_count": null,
   "metadata": {},
   "outputs": [],
   "source": [
    "import matplotlib.pyplot as plt\n",
    "import seaborn as sns   # optional, add to requirements\n",
    "\n",
    "sns.boxplot(data=df, x=\"filter\", y=\"MSE\")\n",
    "plt.title(\"Distribution of MSE across replications\")\n",
    "plt.show()"
   ]
  }
 ],
 "metadata": {
  "kernelspec": {
   "display_name": "Python 3",
   "language": "python",
   "name": "python3"
  },
  "language_info": {
   "name": "python",
   "version": "3.11.1"
  }
 },
 "nbformat": 4,
 "nbformat_minor": 2
}
